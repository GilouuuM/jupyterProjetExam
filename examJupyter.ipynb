{
  "metadata": {
    "language_info": {
      "codemirror_mode": {
        "name": "python",
        "version": 3
      },
      "file_extension": ".py",
      "mimetype": "text/x-python",
      "name": "python",
      "nbconvert_exporter": "python",
      "pygments_lexer": "ipython3",
      "version": "3.8"
    },
    "kernelspec": {
      "name": "python",
      "display_name": "Python (Pyodide)",
      "language": "python"
    }
  },
  "nbformat_minor": 4,
  "nbformat": 4,
  "cells": [
    {
      "cell_type": "markdown",
      "source": "# Introduction to Data Science Notebook",
      "metadata": {}
    },
    {
      "cell_type": "markdown",
      "source": "## Introduction\nWelcome to this notebook that explores the fundamentals of data science. Let's discover together the languages, libraries, tools, and essential concepts.\n",
      "metadata": {}
    },
    {
      "cell_type": "markdown",
      "source": "## Data Science Languages\n- Python\n- R\n- SQL\n",
      "metadata": {}
    },
    {
      "cell_type": "markdown",
      "source": "## Data Science Libraries\n- NumPy\n- Pandas\n- Matplotlib\n- Seaborn\n- Scikit-Learn\n",
      "metadata": {}
    },
    {
      "cell_type": "markdown",
      "source": "## Data Science Tools\n\n| Tool          | Description                              |\n|---------------|------------------------------------------|\n| Jupyter       | Interactive coding environment            |\n| Tableau       | Data visualization platform              |\n| TensorFlow    | Machine learning library                 |\n| Power BI      | Business intelligence tool               |\n",
      "metadata": {}
    },
    {
      "cell_type": "markdown",
      "source": "## Arithmetic Expressions\n- Addition: 2 + 3\n- Multiplication: 4 * 5\n- Division: 10 / 2\n",
      "metadata": {}
    },
    {
      "cell_type": "code",
      "source": "# Multiplication\nmultiplication_result = 4 * 6\n\n# Addition\naddition_result = 10 + 7\n\nmultiplication_result, addition_result\n",
      "metadata": {
        "trusted": true
      },
      "execution_count": 1,
      "outputs": [
        {
          "execution_count": 1,
          "output_type": "execute_result",
          "data": {
            "text/plain": "(24, 17)"
          },
          "metadata": {}
        }
      ]
    },
    {
      "cell_type": "code",
      "source": "# Conversion of minutes to hours\nminutes = 120\nhours = minutes / 60\n\nhours\n",
      "metadata": {
        "trusted": true
      },
      "execution_count": 2,
      "outputs": [
        {
          "execution_count": 2,
          "output_type": "execute_result",
          "data": {
            "text/plain": "2.0"
          },
          "metadata": {}
        }
      ]
    },
    {
      "cell_type": "markdown",
      "source": "## Objectives\n1. Understand the languages used in data science.\n2. Explore essential libraries and tools.\n3. Practice simple arithmetic expressions.\n4. Apply basic programming operations.\n",
      "metadata": {}
    },
    {
      "cell_type": "markdown",
      "source": "## Author\nThis exercise was created by HOUEKPO DANNON Gilchris Mahunan.\n",
      "metadata": {}
    },
    {
      "cell_type": "code",
      "source": "",
      "metadata": {},
      "execution_count": null,
      "outputs": []
    }
  ]
}